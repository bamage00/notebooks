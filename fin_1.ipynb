{
 "cells": [
  {
   "cell_type": "code",
   "execution_count": 1,
   "metadata": {},
   "outputs": [],
   "source": [
    "import pandas as pd\n",
    "\n",
    "from pandas_datareader import data\n",
    "from datetime import datetime\n",
    "from dateutil.relativedelta import relativedelta"
   ]
  },
  {
   "cell_type": "code",
   "execution_count": 2,
   "metadata": {},
   "outputs": [],
   "source": [
    "fig_size_1 = (12, 4)\n",
    "fig_size_2 = (6, 3)\n",
    "today = datetime.today().strftime('%Y-%m-%d')\n",
    "start_date = '1970-01-02'\n",
    "end_date = today\n",
    "three_months = (datetime.today()-relativedelta(months=3)).strftime('%Y-%m-%d')\n",
    "six_months = (datetime.today()-relativedelta(months=6)).strftime('%Y-%m-%d')\n",
    "one_year = (datetime.today()-relativedelta(years=1)).strftime('%Y-%m-%d')"
   ]
  },
  {
   "cell_type": "code",
   "execution_count": 3,
   "metadata": {},
   "outputs": [],
   "source": [
    "tickers = ['AMZN', 'AAPL', 'FB', 'GOOGL', 'MSFT', 'UBER',\n",
    "           'XOM', 'BA', 'DAL', 'UAL', 'AAL',\n",
    "           'SMH', 'XLE', 'IVV', 'VNQ', 'VCSH']\n",
    "\n",
    "num_shares = {'AMZN': 17, 'AAPL': 208, 'FB': 74, 'GOOGL': 10, 'MSFT': 87, 'UBER': 554,\n",
    "              'XOM': 361, 'BA': 87, 'DAL': 141, 'UAL': 129, 'AAL': 316,\n",
    "              'SMH': 57, 'XLE': 431, 'IVV': 64, 'VNQ': 118, 'VCSH': 384, 'CASH': 108443}\n",
    "\n",
    "cost_basis = {'AMZN': 1708.54, 'AAPL': 45.57, 'FB': 168.62, 'GOOGL': 1110.79, 'MSFT': 95.20, 'UBER': 21.65,\n",
    "              'XOM': 41.51, 'BA': 137.98, 'DAL': 23.61, 'UAL': 25.73, 'AAL': 10.54,\n",
    "              'SMH': 110.00, 'XLE': 30.12, 'IVV': 267.39, 'VNQ': 76.10, 'VCSH': 78.07, 'CASH': 1}\n",
    "\n",
    "asset_type = {'AMZN': 'Stock', 'AAPL': 'Stock', 'FB': 'Stock', 'GOOGL': 'Stock', 'MSFT': 'Stock', 'UBER': 'Stock',\n",
    "              'XOM': 'Stock', 'BA': 'Stock', 'DAL': 'Stock', 'UAL': 'Stock', 'AAL': 'Stock',\n",
    "              'SMH': 'ETF', 'XLE': 'ETF', 'IVV': 'Index', 'VNQ': 'REIT', 'VCSH': 'Bond', 'CASH': 'Cash'}"
   ]
  },
  {
   "cell_type": "code",
   "execution_count": 4,
   "metadata": {},
   "outputs": [
    {
     "data": {
      "text/html": [
       "<div>\n",
       "<style scoped>\n",
       "    .dataframe tbody tr th:only-of-type {\n",
       "        vertical-align: middle;\n",
       "    }\n",
       "\n",
       "    .dataframe tbody tr th {\n",
       "        vertical-align: top;\n",
       "    }\n",
       "\n",
       "    .dataframe thead th {\n",
       "        text-align: right;\n",
       "    }\n",
       "</style>\n",
       "<table border=\"1\" class=\"dataframe\">\n",
       "  <thead>\n",
       "    <tr style=\"text-align: right;\">\n",
       "      <th></th>\n",
       "      <th>Date</th>\n",
       "      <th>Close</th>\n",
       "      <th>Shares</th>\n",
       "      <th>Type</th>\n",
       "      <th>Cost</th>\n",
       "      <th>Mkt Val</th>\n",
       "      <th>Cost Basis</th>\n",
       "      <th>Change</th>\n",
       "      <th>Change %</th>\n",
       "      <th>Mkt Val %</th>\n",
       "      <th>Cost Basis %</th>\n",
       "    </tr>\n",
       "    <tr>\n",
       "      <th>Ticker</th>\n",
       "      <th></th>\n",
       "      <th></th>\n",
       "      <th></th>\n",
       "      <th></th>\n",
       "      <th></th>\n",
       "      <th></th>\n",
       "      <th></th>\n",
       "      <th></th>\n",
       "      <th></th>\n",
       "      <th></th>\n",
       "      <th></th>\n",
       "    </tr>\n",
       "  </thead>\n",
       "  <tbody>\n",
       "    <tr>\n",
       "      <th>AMZN</th>\n",
       "      <td>2020-11-16</td>\n",
       "      <td>3121.050049</td>\n",
       "      <td>17</td>\n",
       "      <td>Stock</td>\n",
       "      <td>1708.54</td>\n",
       "      <td>53057.850830</td>\n",
       "      <td>29045.18</td>\n",
       "      <td>24012.670830</td>\n",
       "      <td>82.673514</td>\n",
       "      <td>12.965391</td>\n",
       "      <td>9.582055</td>\n",
       "    </tr>\n",
       "    <tr>\n",
       "      <th>AAPL</th>\n",
       "      <td>2020-11-16</td>\n",
       "      <td>120.449997</td>\n",
       "      <td>208</td>\n",
       "      <td>Stock</td>\n",
       "      <td>45.57</td>\n",
       "      <td>25053.599365</td>\n",
       "      <td>9478.56</td>\n",
       "      <td>15575.039365</td>\n",
       "      <td>164.318624</td>\n",
       "      <td>6.122180</td>\n",
       "      <td>3.126993</td>\n",
       "    </tr>\n",
       "    <tr>\n",
       "      <th>FB</th>\n",
       "      <td>2020-11-16</td>\n",
       "      <td>278.029907</td>\n",
       "      <td>74</td>\n",
       "      <td>Stock</td>\n",
       "      <td>168.62</td>\n",
       "      <td>20574.213135</td>\n",
       "      <td>12477.88</td>\n",
       "      <td>8096.333135</td>\n",
       "      <td>64.885486</td>\n",
       "      <td>5.027582</td>\n",
       "      <td>4.116474</td>\n",
       "    </tr>\n",
       "    <tr>\n",
       "      <th>GOOGL</th>\n",
       "      <td>2020-11-16</td>\n",
       "      <td>1784.998657</td>\n",
       "      <td>10</td>\n",
       "      <td>Stock</td>\n",
       "      <td>1110.79</td>\n",
       "      <td>17849.986572</td>\n",
       "      <td>11107.90</td>\n",
       "      <td>6742.086572</td>\n",
       "      <td>60.696320</td>\n",
       "      <td>4.361881</td>\n",
       "      <td>3.664515</td>\n",
       "    </tr>\n",
       "    <tr>\n",
       "      <th>MSFT</th>\n",
       "      <td>2020-11-16</td>\n",
       "      <td>217.320007</td>\n",
       "      <td>87</td>\n",
       "      <td>Stock</td>\n",
       "      <td>95.20</td>\n",
       "      <td>18906.840637</td>\n",
       "      <td>8282.40</td>\n",
       "      <td>10624.440637</td>\n",
       "      <td>128.277319</td>\n",
       "      <td>4.620138</td>\n",
       "      <td>2.732378</td>\n",
       "    </tr>\n",
       "    <tr>\n",
       "      <th>UBER</th>\n",
       "      <td>2020-11-16</td>\n",
       "      <td>49.325001</td>\n",
       "      <td>554</td>\n",
       "      <td>Stock</td>\n",
       "      <td>21.65</td>\n",
       "      <td>27326.050423</td>\n",
       "      <td>11994.10</td>\n",
       "      <td>15331.950423</td>\n",
       "      <td>127.829103</td>\n",
       "      <td>6.677484</td>\n",
       "      <td>3.956874</td>\n",
       "    </tr>\n",
       "    <tr>\n",
       "      <th>XOM</th>\n",
       "      <td>2020-11-16</td>\n",
       "      <td>37.935001</td>\n",
       "      <td>361</td>\n",
       "      <td>Stock</td>\n",
       "      <td>41.51</td>\n",
       "      <td>13694.535496</td>\n",
       "      <td>14985.11</td>\n",
       "      <td>-1290.574504</td>\n",
       "      <td>-8.612379</td>\n",
       "      <td>3.346442</td>\n",
       "      <td>4.943614</td>\n",
       "    </tr>\n",
       "    <tr>\n",
       "      <th>BA</th>\n",
       "      <td>2020-11-16</td>\n",
       "      <td>200.253998</td>\n",
       "      <td>87</td>\n",
       "      <td>Stock</td>\n",
       "      <td>137.98</td>\n",
       "      <td>17422.097809</td>\n",
       "      <td>12004.26</td>\n",
       "      <td>5417.837809</td>\n",
       "      <td>45.132626</td>\n",
       "      <td>4.257321</td>\n",
       "      <td>3.960226</td>\n",
       "    </tr>\n",
       "    <tr>\n",
       "      <th>DAL</th>\n",
       "      <td>2020-11-16</td>\n",
       "      <td>38.098801</td>\n",
       "      <td>141</td>\n",
       "      <td>Stock</td>\n",
       "      <td>23.61</td>\n",
       "      <td>5371.930893</td>\n",
       "      <td>3329.01</td>\n",
       "      <td>2042.920893</td>\n",
       "      <td>61.367220</td>\n",
       "      <td>1.312703</td>\n",
       "      <td>1.098246</td>\n",
       "    </tr>\n",
       "    <tr>\n",
       "      <th>UAL</th>\n",
       "      <td>2020-11-16</td>\n",
       "      <td>41.470001</td>\n",
       "      <td>129</td>\n",
       "      <td>Stock</td>\n",
       "      <td>25.73</td>\n",
       "      <td>5349.630157</td>\n",
       "      <td>3319.17</td>\n",
       "      <td>2030.460157</td>\n",
       "      <td>61.173732</td>\n",
       "      <td>1.307253</td>\n",
       "      <td>1.095000</td>\n",
       "    </tr>\n",
       "    <tr>\n",
       "      <th>AAL</th>\n",
       "      <td>2020-11-16</td>\n",
       "      <td>12.825000</td>\n",
       "      <td>316</td>\n",
       "      <td>Stock</td>\n",
       "      <td>10.54</td>\n",
       "      <td>4052.699940</td>\n",
       "      <td>3330.64</td>\n",
       "      <td>722.059940</td>\n",
       "      <td>21.679315</td>\n",
       "      <td>0.990331</td>\n",
       "      <td>1.098784</td>\n",
       "    </tr>\n",
       "    <tr>\n",
       "      <th>SMH</th>\n",
       "      <td>2020-11-16</td>\n",
       "      <td>201.789993</td>\n",
       "      <td>57</td>\n",
       "      <td>ETF</td>\n",
       "      <td>110.00</td>\n",
       "      <td>11502.029617</td>\n",
       "      <td>6270.00</td>\n",
       "      <td>5232.029617</td>\n",
       "      <td>83.445448</td>\n",
       "      <td>2.810674</td>\n",
       "      <td>2.068484</td>\n",
       "    </tr>\n",
       "    <tr>\n",
       "      <th>XLE</th>\n",
       "      <td>2020-11-16</td>\n",
       "      <td>35.669998</td>\n",
       "      <td>431</td>\n",
       "      <td>ETF</td>\n",
       "      <td>30.12</td>\n",
       "      <td>15373.769211</td>\n",
       "      <td>12981.72</td>\n",
       "      <td>2392.049211</td>\n",
       "      <td>18.426289</td>\n",
       "      <td>3.756785</td>\n",
       "      <td>4.282692</td>\n",
       "    </tr>\n",
       "    <tr>\n",
       "      <th>IVV</th>\n",
       "      <td>2020-11-16</td>\n",
       "      <td>363.529999</td>\n",
       "      <td>64</td>\n",
       "      <td>Index</td>\n",
       "      <td>267.39</td>\n",
       "      <td>23265.919922</td>\n",
       "      <td>17112.96</td>\n",
       "      <td>6152.959922</td>\n",
       "      <td>35.954972</td>\n",
       "      <td>5.685337</td>\n",
       "      <td>5.645595</td>\n",
       "    </tr>\n",
       "    <tr>\n",
       "      <th>VNQ</th>\n",
       "      <td>2020-11-16</td>\n",
       "      <td>86.089996</td>\n",
       "      <td>118</td>\n",
       "      <td>REIT</td>\n",
       "      <td>76.10</td>\n",
       "      <td>10158.619568</td>\n",
       "      <td>8979.80</td>\n",
       "      <td>1178.819568</td>\n",
       "      <td>13.127459</td>\n",
       "      <td>2.482394</td>\n",
       "      <td>2.962452</td>\n",
       "    </tr>\n",
       "    <tr>\n",
       "      <th>VCSH</th>\n",
       "      <td>2020-11-16</td>\n",
       "      <td>82.875000</td>\n",
       "      <td>384</td>\n",
       "      <td>Bond</td>\n",
       "      <td>78.07</td>\n",
       "      <td>31824.000000</td>\n",
       "      <td>29978.88</td>\n",
       "      <td>1845.120000</td>\n",
       "      <td>6.154733</td>\n",
       "      <td>7.776617</td>\n",
       "      <td>9.890084</td>\n",
       "    </tr>\n",
       "    <tr>\n",
       "      <th>CASH</th>\n",
       "      <td>2020-11-16</td>\n",
       "      <td>1.000000</td>\n",
       "      <td>108443</td>\n",
       "      <td>Cash</td>\n",
       "      <td>1.00</td>\n",
       "      <td>108443.000000</td>\n",
       "      <td>108443.00</td>\n",
       "      <td>0.000000</td>\n",
       "      <td>0.000000</td>\n",
       "      <td>26.499488</td>\n",
       "      <td>35.775533</td>\n",
       "    </tr>\n",
       "  </tbody>\n",
       "</table>\n",
       "</div>"
      ],
      "text/plain": [
       "             Date        Close  Shares   Type     Cost        Mkt Val  \\\n",
       "Ticker                                                                  \n",
       "AMZN   2020-11-16  3121.050049      17  Stock  1708.54   53057.850830   \n",
       "AAPL   2020-11-16   120.449997     208  Stock    45.57   25053.599365   \n",
       "FB     2020-11-16   278.029907      74  Stock   168.62   20574.213135   \n",
       "GOOGL  2020-11-16  1784.998657      10  Stock  1110.79   17849.986572   \n",
       "MSFT   2020-11-16   217.320007      87  Stock    95.20   18906.840637   \n",
       "UBER   2020-11-16    49.325001     554  Stock    21.65   27326.050423   \n",
       "XOM    2020-11-16    37.935001     361  Stock    41.51   13694.535496   \n",
       "BA     2020-11-16   200.253998      87  Stock   137.98   17422.097809   \n",
       "DAL    2020-11-16    38.098801     141  Stock    23.61    5371.930893   \n",
       "UAL    2020-11-16    41.470001     129  Stock    25.73    5349.630157   \n",
       "AAL    2020-11-16    12.825000     316  Stock    10.54    4052.699940   \n",
       "SMH    2020-11-16   201.789993      57    ETF   110.00   11502.029617   \n",
       "XLE    2020-11-16    35.669998     431    ETF    30.12   15373.769211   \n",
       "IVV    2020-11-16   363.529999      64  Index   267.39   23265.919922   \n",
       "VNQ    2020-11-16    86.089996     118   REIT    76.10   10158.619568   \n",
       "VCSH   2020-11-16    82.875000     384   Bond    78.07   31824.000000   \n",
       "CASH   2020-11-16     1.000000  108443   Cash     1.00  108443.000000   \n",
       "\n",
       "        Cost Basis        Change    Change %  Mkt Val %  Cost Basis %  \n",
       "Ticker                                                                 \n",
       "AMZN      29045.18  24012.670830   82.673514  12.965391      9.582055  \n",
       "AAPL       9478.56  15575.039365  164.318624   6.122180      3.126993  \n",
       "FB        12477.88   8096.333135   64.885486   5.027582      4.116474  \n",
       "GOOGL     11107.90   6742.086572   60.696320   4.361881      3.664515  \n",
       "MSFT       8282.40  10624.440637  128.277319   4.620138      2.732378  \n",
       "UBER      11994.10  15331.950423  127.829103   6.677484      3.956874  \n",
       "XOM       14985.11  -1290.574504   -8.612379   3.346442      4.943614  \n",
       "BA        12004.26   5417.837809   45.132626   4.257321      3.960226  \n",
       "DAL        3329.01   2042.920893   61.367220   1.312703      1.098246  \n",
       "UAL        3319.17   2030.460157   61.173732   1.307253      1.095000  \n",
       "AAL        3330.64    722.059940   21.679315   0.990331      1.098784  \n",
       "SMH        6270.00   5232.029617   83.445448   2.810674      2.068484  \n",
       "XLE       12981.72   2392.049211   18.426289   3.756785      4.282692  \n",
       "IVV       17112.96   6152.959922   35.954972   5.685337      5.645595  \n",
       "VNQ        8979.80   1178.819568   13.127459   2.482394      2.962452  \n",
       "VCSH      29978.88   1845.120000    6.154733   7.776617      9.890084  \n",
       "CASH     108443.00      0.000000    0.000000  26.499488     35.775533  "
      ]
     },
     "execution_count": 4,
     "metadata": {},
     "output_type": "execute_result"
    }
   ],
   "source": [
    "df = pd.DataFrame()\n",
    "\n",
    "for ticker in tickers:\n",
    "    df_temp = data.DataReader(ticker, 'yahoo', start_date, end_date).reset_index()[['Date', 'Close']]\n",
    "    df_temp['Ticker'] = [ticker] * len(df_temp)\n",
    "    df_temp['Shares'] = [num_shares[ticker]] * len(df_temp)\n",
    "    df_temp['Type'] = [asset_type[ticker]] * len(df_temp)\n",
    "    df_temp['Cost'] = [cost_basis[ticker]] * len(df_temp)\n",
    "    df = df.append(df_temp)\n",
    "\n",
    "df = df.append({'Ticker': 'CASH', 'Date' : df['Date'].max() , 'Close' : 1, 'Shares': num_shares['CASH'],\n",
    "                'Type': asset_type['CASH'], 'Cost': cost_basis['CASH']}, ignore_index=True)\n",
    "\n",
    "df['Mkt Val'] = df['Shares'] * df['Close']\n",
    "df['Cost Basis'] = df['Shares'] * df['Cost']\n",
    "df['Change'] = df['Mkt Val'] - df['Cost Basis']\n",
    "df['Change %'] = 100*df['Change']/df['Cost Basis']\n",
    "\n",
    "df_final = df.groupby(['Ticker']).tail(1).set_index('Ticker')\n",
    "df_final['Mkt Val %'] = 100*df_final['Mkt Val']/df_final['Mkt Val'].sum()\n",
    "df_final['Cost Basis %'] = 100*df_final['Cost Basis']/df_final['Cost Basis'].sum()\n",
    "df_final"
   ]
  },
  {
   "cell_type": "code",
   "execution_count": 5,
   "metadata": {},
   "outputs": [
    {
     "data": {
      "text/plain": [
       "<AxesSubplot:title={'center':'Change'}, xlabel='Ticker'>"
      ]
     },
     "execution_count": 5,
     "metadata": {},
     "output_type": "execute_result"
    },
    {
     "data": {
      "image/png": "[encoded data removed]",
      "text/plain": [
       "<Figure size 864x288 with 1 Axes>"
      ]
     },
     "metadata": {
      "needs_background": "light"
     },
     "output_type": "display_data"
    },
    {
     "data": {
      "image/png": "[encoded data removed]",
      "text/plain": [
       "<Figure size 864x288 with 1 Axes>"
      ]
     },
     "metadata": {
      "needs_background": "light"
     },
     "output_type": "display_data"
    },
    {
     "data": {
      "image/png": "[encoded data removed]",
      "text/plain": [
       "<Figure size 864x288 with 2 Axes>"
      ]
     },
     "metadata": {
      "needs_background": "light"
     },
     "output_type": "display_data"
    }
   ],
   "source": [
    "df_final.plot(y=['Mkt Val', 'Cost Basis'], kind='bar',\n",
    "                   figsize=fig_size_1, grid=True, title='Mkt Val and Cost Basis')\n",
    "df_final.plot(y=['Mkt Val %', 'Cost Basis %'], kind='bar',\n",
    "                   figsize=fig_size_1, grid=True, title='Mkt Val and Cost Basis %')\n",
    "df_final.plot(y=['Change', 'Change %'], secondary_y='Change %', kind='bar',\n",
    "                   figsize=fig_size_1, grid=True, title='Change')"
   ]
  },
  {
   "cell_type": "code",
   "execution_count": 6,
   "metadata": {},
   "outputs": [
    {
     "data": {
      "text/html": [
       "<div>\n",
       "<style scoped>\n",
       "    .dataframe tbody tr th:only-of-type {\n",
       "        vertical-align: middle;\n",
       "    }\n",
       "\n",
       "    .dataframe tbody tr th {\n",
       "        vertical-align: top;\n",
       "    }\n",
       "\n",
       "    .dataframe thead th {\n",
       "        text-align: right;\n",
       "    }\n",
       "</style>\n",
       "<table border=\"1\" class=\"dataframe\">\n",
       "  <thead>\n",
       "    <tr style=\"text-align: right;\">\n",
       "      <th></th>\n",
       "      <th>Mkt Val</th>\n",
       "      <th>Cost Basis</th>\n",
       "      <th>Mkt Val %</th>\n",
       "      <th>Cost Basis %</th>\n",
       "      <th>Change</th>\n",
       "      <th>Change %</th>\n",
       "    </tr>\n",
       "    <tr>\n",
       "      <th>Type</th>\n",
       "      <th></th>\n",
       "      <th></th>\n",
       "      <th></th>\n",
       "      <th></th>\n",
       "      <th></th>\n",
       "      <th></th>\n",
       "    </tr>\n",
       "  </thead>\n",
       "  <tbody>\n",
       "    <tr>\n",
       "      <th>Bond</th>\n",
       "      <td>31824.000000</td>\n",
       "      <td>29978.88</td>\n",
       "      <td>7.776617</td>\n",
       "      <td>9.890084</td>\n",
       "      <td>1845.120000</td>\n",
       "      <td>6.154733</td>\n",
       "    </tr>\n",
       "    <tr>\n",
       "      <th>Cash</th>\n",
       "      <td>108443.000000</td>\n",
       "      <td>108443.00</td>\n",
       "      <td>26.499488</td>\n",
       "      <td>35.775533</td>\n",
       "      <td>0.000000</td>\n",
       "      <td>0.000000</td>\n",
       "    </tr>\n",
       "    <tr>\n",
       "      <th>ETF</th>\n",
       "      <td>26875.798828</td>\n",
       "      <td>19251.72</td>\n",
       "      <td>6.567459</td>\n",
       "      <td>6.351176</td>\n",
       "      <td>7624.078828</td>\n",
       "      <td>39.602066</td>\n",
       "    </tr>\n",
       "    <tr>\n",
       "      <th>Index</th>\n",
       "      <td>23265.919922</td>\n",
       "      <td>17112.96</td>\n",
       "      <td>5.685337</td>\n",
       "      <td>5.645595</td>\n",
       "      <td>6152.959922</td>\n",
       "      <td>35.954972</td>\n",
       "    </tr>\n",
       "    <tr>\n",
       "      <th>REIT</th>\n",
       "      <td>10158.619568</td>\n",
       "      <td>8979.80</td>\n",
       "      <td>2.482394</td>\n",
       "      <td>2.962452</td>\n",
       "      <td>1178.819568</td>\n",
       "      <td>13.127459</td>\n",
       "    </tr>\n",
       "    <tr>\n",
       "      <th>Stock</th>\n",
       "      <td>208659.435257</td>\n",
       "      <td>119354.21</td>\n",
       "      <td>50.988706</td>\n",
       "      <td>39.375160</td>\n",
       "      <td>89305.225257</td>\n",
       "      <td>74.823691</td>\n",
       "    </tr>\n",
       "  </tbody>\n",
       "</table>\n",
       "</div>"
      ],
      "text/plain": [
       "             Mkt Val  Cost Basis  Mkt Val %  Cost Basis %        Change  \\\n",
       "Type                                                                      \n",
       "Bond    31824.000000    29978.88   7.776617      9.890084   1845.120000   \n",
       "Cash   108443.000000   108443.00  26.499488     35.775533      0.000000   \n",
       "ETF     26875.798828    19251.72   6.567459      6.351176   7624.078828   \n",
       "Index   23265.919922    17112.96   5.685337      5.645595   6152.959922   \n",
       "REIT    10158.619568     8979.80   2.482394      2.962452   1178.819568   \n",
       "Stock  208659.435257   119354.21  50.988706     39.375160  89305.225257   \n",
       "\n",
       "        Change %  \n",
       "Type              \n",
       "Bond    6.154733  \n",
       "Cash    0.000000  \n",
       "ETF    39.602066  \n",
       "Index  35.954972  \n",
       "REIT   13.127459  \n",
       "Stock  74.823691  "
      ]
     },
     "execution_count": 6,
     "metadata": {},
     "output_type": "execute_result"
    }
   ],
   "source": [
    "df_final_type = df_final.groupby('Type').sum()[['Mkt Val', 'Cost Basis']]\n",
    "df_final_type['Mkt Val %'] = 100*df_final_type['Mkt Val']/df_final_type['Mkt Val'].sum()\n",
    "df_final_type['Cost Basis %'] = 100*df_final_type['Cost Basis']/df_final_type['Cost Basis'].sum()\n",
    "df_final_type['Change'] = df_final_type['Mkt Val'] - df_final_type['Cost Basis']\n",
    "df_final_type['Change %'] = 100 * df_final_type['Change'] / df_final_type['Cost Basis']\n",
    "df_final_type"
   ]
  },
  {
   "cell_type": "code",
   "execution_count": 7,
   "metadata": {
    "scrolled": false
   },
   "outputs": [
    {
     "data": {
      "text/plain": [
       "<AxesSubplot:title={'center':'Change %'}, xlabel='Type'>"
      ]
     },
     "execution_count": 7,
     "metadata": {},
     "output_type": "execute_result"
    },
    {
     "data": {
      "image/png": "[encoded data removed]",
      "text/plain": [
       "<Figure size 432x216 with 1 Axes>"
      ]
     },
     "metadata": {
      "needs_background": "light"
     },
     "output_type": "display_data"
    },
    {
     "data": {
      "image/png": "[encoded data removed]",
      "text/plain": [
       "<Figure size 432x216 with 1 Axes>"
      ]
     },
     "metadata": {
      "needs_background": "light"
     },
     "output_type": "display_data"
    },
    {
     "data": {
      "image/png": "[encoded data removed]",
      "text/plain": [
       "<Figure size 432x216 with 1 Axes>"
      ]
     },
     "metadata": {
      "needs_background": "light"
     },
     "output_type": "display_data"
    },
    {
     "data": {
      "image/png": "[encoded data removed]",
      "text/plain": [
       "<Figure size 432x216 with 1 Axes>"
      ]
     },
     "metadata": {
      "needs_background": "light"
     },
     "output_type": "display_data"
    }
   ],
   "source": [
    "df_final_type.plot(y=['Mkt Val', 'Cost Basis'], kind='bar',\n",
    "                   figsize=fig_size_2, grid=True, title='Mkt Val and Cost Basis')\n",
    "df_final_type.plot(y=['Mkt Val %', 'Cost Basis %'], kind='bar',\n",
    "                   figsize=fig_size_2, grid=True, title='Mkt Val and Cost Basis %')\n",
    "df_final_type.plot(y='Change', kind='bar',\n",
    "                   figsize=fig_size_2, grid=True, title='Change')\n",
    "df_final_type.plot(y='Change %', kind='bar',\n",
    "                   figsize=fig_size_2, grid=True, title='Change %')"
   ]
  },
  {
   "cell_type": "code",
   "execution_count": 8,
   "metadata": {},
   "outputs": [
    {
     "data": {
      "text/plain": [
       "108443.0"
      ]
     },
     "execution_count": 8,
     "metadata": {},
     "output_type": "execute_result"
    }
   ],
   "source": [
    "df[df['Ticker'] == 'CASH'][['Mkt Val']].values[0][0]"
   ]
  },
  {
   "cell_type": "code",
   "execution_count": 9,
   "metadata": {
    "scrolled": true
   },
   "outputs": [
    {
     "data": {
      "text/html": [
       "<div>\n",
       "<style scoped>\n",
       "    .dataframe tbody tr th:only-of-type {\n",
       "        vertical-align: middle;\n",
       "    }\n",
       "\n",
       "    .dataframe tbody tr th {\n",
       "        vertical-align: top;\n",
       "    }\n",
       "\n",
       "    .dataframe thead th {\n",
       "        text-align: right;\n",
       "    }\n",
       "</style>\n",
       "<table border=\"1\" class=\"dataframe\">\n",
       "  <thead>\n",
       "    <tr style=\"text-align: right;\">\n",
       "      <th></th>\n",
       "      <th>Date</th>\n",
       "      <th>Mkt Val</th>\n",
       "    </tr>\n",
       "  </thead>\n",
       "  <tbody>\n",
       "    <tr>\n",
       "      <th>12828</th>\n",
       "      <td>2020-11-06</td>\n",
       "      <td>290123.081251</td>\n",
       "    </tr>\n",
       "    <tr>\n",
       "      <th>12829</th>\n",
       "      <td>2020-11-09</td>\n",
       "      <td>294884.679180</td>\n",
       "    </tr>\n",
       "    <tr>\n",
       "      <th>12830</th>\n",
       "      <td>2020-11-10</td>\n",
       "      <td>291578.699337</td>\n",
       "    </tr>\n",
       "    <tr>\n",
       "      <th>12831</th>\n",
       "      <td>2020-11-11</td>\n",
       "      <td>293633.495850</td>\n",
       "    </tr>\n",
       "    <tr>\n",
       "      <th>12832</th>\n",
       "      <td>2020-11-12</td>\n",
       "      <td>290730.237736</td>\n",
       "    </tr>\n",
       "    <tr>\n",
       "      <th>12833</th>\n",
       "      <td>2020-11-13</td>\n",
       "      <td>295439.602173</td>\n",
       "    </tr>\n",
       "    <tr>\n",
       "      <th>12834</th>\n",
       "      <td>2020-11-16</td>\n",
       "      <td>300783.773575</td>\n",
       "    </tr>\n",
       "  </tbody>\n",
       "</table>\n",
       "</div>"
      ],
      "text/plain": [
       "            Date        Mkt Val\n",
       "12828 2020-11-06  290123.081251\n",
       "12829 2020-11-09  294884.679180\n",
       "12830 2020-11-10  291578.699337\n",
       "12831 2020-11-11  293633.495850\n",
       "12832 2020-11-12  290730.237736\n",
       "12833 2020-11-13  295439.602173\n",
       "12834 2020-11-16  300783.773575"
      ]
     },
     "execution_count": 9,
     "metadata": {},
     "output_type": "execute_result"
    }
   ],
   "source": [
    "mkt_val = (df[df['Ticker'] != 'CASH'].groupby('Date').sum()['Mkt Val'])\n",
    "# mkt_val[['Mkt Val']] = mkt_val[['Mkt Val']] + df[df['Ticker'] == 'CASH'][['Mkt Val']].values[0][0]\n",
    "mkt_val = mkt_val.reset_index()\n",
    "mkt_val.tail(7)"
   ]
  },
  {
   "cell_type": "code",
   "execution_count": 10,
   "metadata": {},
   "outputs": [
    {
     "data": {
      "text/plain": [
       "<AxesSubplot:title={'center':'Portfolio Value'}, xlabel='Date'>"
      ]
     },
     "execution_count": 10,
     "metadata": {},
     "output_type": "execute_result"
    },
    {
     "data": {
      "image/png": "[encoded data removed]",
      "text/plain": [
       "<Figure size 864x288 with 1 Axes>"
      ]
     },
     "metadata": {
      "needs_background": "light"
     },
     "output_type": "display_data"
    }
   ],
   "source": [
    "mkt_val[(mkt_val['Date'] >= three_months) & (mkt_val['Date'] <= end_date)].plot(\n",
    "    x='Date', y=['Mkt Val'],\n",
    "    figsize=fig_size_1, grid=True, title='Portfolio Value')"
   ]
  },
  {
   "cell_type": "code",
   "execution_count": null,
   "metadata": {},
   "outputs": [],
   "source": []
  }
 ],
 "metadata": {
  "kernelspec": {
   "display_name": "Python 3",
   "language": "python",
   "name": "python3"
  },
  "language_info": {
   "codemirror_mode": {
    "name": "ipython",
    "version": 3
   },
   "file_extension": ".py",
   "mimetype": "text/x-python",
   "name": "python",
   "nbconvert_exporter": "python",
   "pygments_lexer": "ipython3",
   "version": "3.8.4"
  }
 },
 "nbformat": 4,
 "nbformat_minor": 4
}
