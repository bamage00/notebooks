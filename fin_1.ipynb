{
 "cells": [
  {
   "cell_type": "code",
   "execution_count": 1,
   "metadata": {},
   "outputs": [],
   "source": [
    "import pandas as pd\n",
    "import numpy as np\n",
    "import matplotlib.pyplot as plt\n",
    "\n",
    "from pandas_datareader import data\n",
    "from datetime import datetime\n",
    "from dateutil.relativedelta import relativedelta\n",
    "from sklearn import linear_model"
   ]
  },
  {
   "cell_type": "code",
   "execution_count": 2,
   "metadata": {},
   "outputs": [],
   "source": [
    "fig_size_1 = (12, 4)\n",
    "fig_size_2 = (6, 3)\n",
    "fig_size_3 = (6, 6)\n",
    "today = datetime.today().strftime('%Y-%m-%d')\n",
    "start_date = '1970-01-02'\n",
    "end_date = today\n",
    "three_months = (datetime.today()-relativedelta(months=3)).strftime('%Y-%m-%d')\n",
    "six_months = (datetime.today()-relativedelta(months=6)).strftime('%Y-%m-%d')\n",
    "one_year = (datetime.today()-relativedelta(years=1)).strftime('%Y-%m-%d')"
   ]
  },
  {
   "cell_type": "code",
   "execution_count": 3,
   "metadata": {},
   "outputs": [],
   "source": [
    "tickers = ['AMZN', 'AAPL', 'FB', 'GOOGL', 'MSFT', 'UBER',\n",
    "           'XOM', 'BA', 'DAL', 'UAL', 'AAL',\n",
    "           'SMH', 'XLE', 'IVV', 'VNQ', 'VCSH']\n",
    "\n",
    "num_shares = {'AMZN': 17, 'AAPL': 208, 'FB': 74, 'GOOGL': 10, 'MSFT': 87, 'UBER': 554,\n",
    "              'XOM': 361, 'BA': 87, 'DAL': 141, 'UAL': 129, 'AAL': 316,\n",
    "              'SMH': 57, 'XLE': 431, 'IVV': 64, 'VNQ': 118, 'VCSH': 384, 'CASH': 108443}\n",
    "\n",
    "cost_basis = {'AMZN': 1708.54, 'AAPL': 45.57, 'FB': 168.62, 'GOOGL': 1110.79, 'MSFT': 95.20, 'UBER': 21.65,\n",
    "              'XOM': 41.51, 'BA': 137.98, 'DAL': 23.61, 'UAL': 25.73, 'AAL': 10.54,\n",
    "              'SMH': 110.00, 'XLE': 30.12, 'IVV': 267.39, 'VNQ': 76.10, 'VCSH': 78.07, 'CASH': 1}\n",
    "\n",
    "asset_type = {'AMZN': 'Stock', 'AAPL': 'Stock', 'FB': 'Stock', 'GOOGL': 'Stock', 'MSFT': 'Stock', 'UBER': 'Stock',\n",
    "              'XOM': 'Stock', 'BA': 'Stock', 'DAL': 'Stock', 'UAL': 'Stock', 'AAL': 'Stock',\n",
    "              'SMH': 'ETF', 'XLE': 'ETF', 'IVV': 'Index', 'VNQ': 'REIT', 'VCSH': 'Bond', 'CASH': 'Cash'}"
   ]
  },
  {
   "cell_type": "code",
   "execution_count": null,
   "metadata": {},
   "outputs": [],
   "source": [
    "df = pd.DataFrame()\n",
    "\n",
    "for ticker in tickers:\n",
    "    df_temp = data.DataReader(ticker, 'yahoo', start_date, end_date).reset_index()[['Date', 'Close']]\n",
    "    df_temp['Ticker'] = [ticker] * len(df_temp)\n",
    "    df_temp['Shares'] = [num_shares[ticker]] * len(df_temp)\n",
    "    df_temp['Type'] = [asset_type[ticker]] * len(df_temp)\n",
    "    df_temp['Cost'] = [cost_basis[ticker]] * len(df_temp)\n",
    "    df = df.append(df_temp)\n",
    "\n",
    "df = df.append({'Ticker': 'CASH', 'Date' : df['Date'].max() , 'Close' : 1, 'Shares': num_shares['CASH'],\n",
    "                'Type': asset_type['CASH'], 'Cost': cost_basis['CASH']}, ignore_index=True)\n",
    "\n",
    "df['Mkt Val'] = df['Shares'] * df['Close']\n",
    "df['Cost Basis'] = df['Shares'] * df['Cost']\n",
    "df['Change'] = df['Mkt Val'] - df['Cost Basis']\n",
    "df['Change %'] = 100*df['Change']/df['Cost Basis']\n",
    "\n",
    "df_final = df.groupby(['Ticker']).tail(1).set_index('Ticker')\n",
    "df_final['Mkt Val %'] = 100*df_final['Mkt Val']/df_final['Mkt Val'].sum()\n",
    "df_final['Cost Basis %'] = 100*df_final['Cost Basis']/df_final['Cost Basis'].sum()\n",
    "df_final"
   ]
  },
  {
   "cell_type": "code",
   "execution_count": null,
   "metadata": {},
   "outputs": [],
   "source": [
    "df_final.plot(y=['Mkt Val', 'Cost Basis'], kind='bar',\n",
    "                   figsize=fig_size_1, grid=True, title='Mkt Val and Cost Basis')\n",
    "df_final.plot(y=['Mkt Val %', 'Cost Basis %'], kind='bar',\n",
    "                   figsize=fig_size_1, grid=True, title='Mkt Val and Cost Basis %')\n",
    "df_final.plot(y=['Change', 'Change %'], secondary_y='Change %', kind='bar',\n",
    "                   figsize=fig_size_1, grid=True, title='Change')"
   ]
  },
  {
   "cell_type": "code",
   "execution_count": null,
   "metadata": {},
   "outputs": [],
   "source": [
    "df_final_type = df_final.groupby('Type').sum()[['Mkt Val', 'Cost Basis']]\n",
    "df_final_type['Mkt Val %'] = 100*df_final_type['Mkt Val']/df_final_type['Mkt Val'].sum()\n",
    "df_final_type['Cost Basis %'] = 100*df_final_type['Cost Basis']/df_final_type['Cost Basis'].sum()\n",
    "df_final_type['Change'] = df_final_type['Mkt Val'] - df_final_type['Cost Basis']\n",
    "df_final_type['Change %'] = 100 * df_final_type['Change'] / df_final_type['Cost Basis']\n",
    "df_final_type"
   ]
  },
  {
   "cell_type": "code",
   "execution_count": null,
   "metadata": {
    "scrolled": false
   },
   "outputs": [],
   "source": [
    "df_final_type.plot(y=['Mkt Val', 'Cost Basis'], kind='bar',\n",
    "                   figsize=fig_size_2, grid=True, title='Mkt Val and Cost Basis')\n",
    "df_final_type.plot(y=['Mkt Val %', 'Cost Basis %'], kind='bar',\n",
    "                   figsize=fig_size_2, grid=True, title='Mkt Val and Cost Basis %')\n",
    "df_final_type.plot(y='Change', kind='bar',\n",
    "                   figsize=fig_size_2, grid=True, title='Change')\n",
    "df_final_type.plot(y='Change %', kind='bar',\n",
    "                   figsize=fig_size_2, grid=True, title='Change %')"
   ]
  },
  {
   "cell_type": "code",
   "execution_count": null,
   "metadata": {
    "scrolled": false
   },
   "outputs": [],
   "source": [
    "mkt_val = (df[df['Ticker'] != 'CASH'].groupby('Date').sum()['Mkt Val']) + df[df['Ticker'] == 'CASH'][['Mkt Val']].values[0]\n",
    "mkt_val = mkt_val.reset_index()\n",
    "\n",
    "cost_basis = (df[df['Ticker'] != 'CASH'].groupby('Date').sum()['Cost Basis']) + df[df['Ticker'] == 'CASH'][['Cost Basis']].values[0]\n",
    "cost_basis = cost_basis.reset_index()\n",
    "\n",
    "period = three_months\n",
    "\n",
    "dff = mkt_val[(mkt_val['Date'] >= period) & (mkt_val['Date'] <= end_date)].set_index('Date')\n",
    "dff['Cost Basis'] = cost_basis[(cost_basis['Date'] >= period) & (cost_basis['Date'] <= end_date)].set_index('Date')['Cost Basis']\n",
    "\n",
    "dff['Return'] = dff['Mkt Val'] - dff['Cost Basis']\n",
    "dff['% Return'] = 100*(dff['Mkt Val'] - dff['Cost Basis'])/dff['Cost Basis']\n",
    "dff['% Chg Portfolio'] = 100*(dff['Mkt Val']-dff.head(1)['Mkt Val'].values[0])/dff.head(1)['Mkt Val'].values[0]\n",
    "dff['Close IVV'] = df[(df['Ticker'] == 'IVV') & (df['Date'] >= period) & (df['Date'] <= end_date)][['Date', 'Close']].set_index('Date')\n",
    "dff['% Chg IVV'] = 100*(dff['Close IVV']-dff.head(1)['Close IVV'].values[0])/dff.head(1)['Close IVV'].values[0]\n",
    "\n",
    "model = linear_model.LinearRegression()\n",
    "model.fit(np.array(dff[['% Chg IVV']]), np.array(dff[['% Chg Portfolio']]))\n",
    "dff['% Chg Pred'] = model.predict(np.array(dff[['% Chg IVV']]))\n",
    "\n",
    "dff.tail(1)[['Mkt Val', 'Cost Basis', 'Return', '% Return']].transpose()"
   ]
  },
  {
   "cell_type": "code",
   "execution_count": null,
   "metadata": {
    "scrolled": false
   },
   "outputs": [],
   "source": [
    "dff.plot(y=['Mkt Val', '% Return'], secondary_y='% Return', style=['-', '--'],\n",
    "         figsize=fig_size_1, grid=True, title='Portfolio Value')\n",
    "\n",
    "dff.plot(y=['% Chg Portfolio', '% Chg IVV'], figsize=fig_size_1, grid=True, title='Portfolio v/s IVV')\n",
    "\n",
    "fig, axes = plt.subplots(sharex=True)\n",
    "dff.plot(x='% Chg IVV', y='% Chg Portfolio', kind='scatter',\n",
    "         ax=axes, figsize=fig_size_3, grid=True, title='Portfolio v/s IVV')\n",
    "dff.plot(x='% Chg IVV', y='% Chg Pred', kind='line', color='Red',\n",
    "         ax=axes, figsize=fig_size_3, grid=True, title='Portfolio v/s IVV')\n",
    "\n",
    "print('Std dev market', round(100*dff.pct_change().std()['Close IVV'], 3))\n",
    "print('Std dev portfolio', round(100*dff.pct_change().std()['Mkt Val'], 3))\n",
    "print('Beta:', model.coef_[0])"
   ]
  },
  {
   "cell_type": "code",
   "execution_count": null,
   "metadata": {},
   "outputs": [],
   "source": []
  }
 ],
 "metadata": {
  "kernelspec": {
   "display_name": "Python 3",
   "language": "python",
   "name": "python3"
  },
  "language_info": {
   "codemirror_mode": {
    "name": "ipython",
    "version": 3
   },
   "file_extension": ".py",
   "mimetype": "text/x-python",
   "name": "python",
   "nbconvert_exporter": "python",
   "pygments_lexer": "ipython3",
   "version": "3.7.7"
  }
 },
 "nbformat": 4,
 "nbformat_minor": 4
}
